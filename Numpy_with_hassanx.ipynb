{
 "cells": [
  {
   "cell_type": "code",
   "execution_count": 1,
   "metadata": {},
   "outputs": [],
   "source": [
    "import numpy as np\n"
   ]
  },
  {
   "cell_type": "code",
   "execution_count": 5,
   "metadata": {},
   "outputs": [
    {
     "data": {
      "text/plain": [
       "array([1, 2, 3, 4])"
      ]
     },
     "execution_count": 5,
     "metadata": {},
     "output_type": "execute_result"
    }
   ],
   "source": [
    "# creat matrix and array\n",
    "arraynp = np.array([1,2,3,4])\n",
    "matrix = np.array([[1,2],[3,4]])\n",
    "arraynp"
   ]
  },
  {
   "cell_type": "code",
   "execution_count": 6,
   "metadata": {},
   "outputs": [
    {
     "name": "stdout",
     "output_type": "stream",
     "text": [
      "[1 2 3 4 5]\n"
     ]
    }
   ],
   "source": [
    "my_list = [1, 2, 3, 4, 5]\n",
    "\n",
    "my_array = np.array(my_list)\n",
    "\n",
    "print(my_array)"
   ]
  },
  {
   "cell_type": "code",
   "execution_count": 19,
   "metadata": {},
   "outputs": [
    {
     "name": "stdout",
     "output_type": "stream",
     "text": [
      "[[0. 0.]\n",
      " [0. 0.]]\n"
     ]
    }
   ],
   "source": [
    "zero_array = np.zeros((2,2))\n",
    "print(zero_array)"
   ]
  },
  {
   "cell_type": "code",
   "execution_count": 32,
   "metadata": {},
   "outputs": [
    {
     "name": "stdout",
     "output_type": "stream",
     "text": [
      "[[[1. 1. 1. 1.]\n",
      "  [1. 1. 1. 1.]\n",
      "  [1. 1. 1. 1.]\n",
      "  [1. 1. 1. 1.]]\n",
      "\n",
      " [[1. 1. 1. 1.]\n",
      "  [1. 1. 1. 1.]\n",
      "  [1. 1. 1. 1.]\n",
      "  [1. 1. 1. 1.]]\n",
      "\n",
      " [[1. 1. 1. 1.]\n",
      "  [1. 1. 1. 1.]\n",
      "  [1. 1. 1. 1.]\n",
      "  [1. 1. 1. 1.]]\n",
      "\n",
      " [[1. 1. 1. 1.]\n",
      "  [1. 1. 1. 1.]\n",
      "  [1. 1. 1. 1.]\n",
      "  [1. 1. 1. 1.]]]\n"
     ]
    }
   ],
   "source": [
    "ones_array = np.ones((4,4,4))\n",
    "print(ones_array)"
   ]
  },
  {
   "cell_type": "code",
   "execution_count": 43,
   "metadata": {},
   "outputs": [
    {
     "name": "stdout",
     "output_type": "stream",
     "text": [
      "int32\n"
     ]
    }
   ],
   "source": [
    "range_array = np.arange(0, 10)\n",
    "\n",
    "print(range_array.dtype)"
   ]
  },
  {
   "cell_type": "code",
   "execution_count": 40,
   "metadata": {},
   "outputs": [
    {
     "name": "stdout",
     "output_type": "stream",
     "text": [
      "Array:\n",
      "[[1 2 3]\n",
      " [4 5 6]]\n",
      "\n",
      "Shape: (2, 3)\n",
      "Size: 6\n",
      "Data Type: int32\n"
     ]
    }
   ],
   "source": [
    "# Create an array for demonstration\n",
    "my_array = np.array([[1, 2, 3], [4, 5, 6]])\n",
    "\n",
    "# Print the array and its attributes\n",
    "print(\"Array:\")\n",
    "print(my_array)\n",
    "\n",
    "print(\"\\nShape:\", my_array.shape)  # Shape of the array (rows, columns)\n",
    "print(\"Size:\", my_array.size)       # Total number of elements in the array\n",
    "print(\"Data Type:\", my_array.dtype)  # Data type of elements in the array\n"
   ]
  },
  {
   "cell_type": "code",
   "execution_count": 48,
   "metadata": {},
   "outputs": [
    {
     "name": "stdout",
     "output_type": "stream",
     "text": [
      "\n",
      "First element: 1\n",
      "First row: [1 2 3]\n",
      "First column: [1 4]\n",
      "Slicing: [[2 3]\n",
      " [5 6]]\n",
      "\n",
      "Reshaped Array:\n",
      "[[1 2]\n",
      " [3 4]\n",
      " [5 6]]\n"
     ]
    }
   ],
   "source": [
    "# Indexing and slicing arrays\n",
    "print(\"\\nFirst element:\", my_array[0, 0])        # Accessing individual elements\n",
    "print(\"First row:\", my_array[0])                 # Accessing a row\n",
    "print(\"First column:\", my_array[:, 0])           # Accessing a column\n",
    "print(\"Slicing:\", my_array[0:2, 1:3])            # Slicing a sub-array\n",
    "\n",
    "# Reshaping arrays\n",
    "reshaped_array = my_array.reshape(3, 2)          # Reshaping to a 3x2 array\n",
    "print(\"\\nReshaped Array:\")\n",
    "print(reshaped_array)\n"
   ]
  },
  {
   "cell_type": "code",
   "execution_count": 49,
   "metadata": {},
   "outputs": [
    {
     "name": "stdout",
     "output_type": "stream",
     "text": [
      "Addition: [5 7 9]\n",
      "Subtraction: [-3 -3 -3]\n",
      "Multiplication: [ 4 10 18]\n",
      "Division: [0.25 0.4  0.5 ]\n"
     ]
    }
   ],
   "source": [
    "import numpy as np\n",
    "\n",
    "# Create NumPy arrays\n",
    "array1 = np.array([1, 2, 3])\n",
    "array2 = np.array([4, 5, 6])\n",
    "\n",
    "# Element-wise addition\n",
    "result_add = array1 + array2  # [5, 7, 9]\n",
    "\n",
    "# Element-wise subtraction\n",
    "result_subtract = array1 - array2  # [-3, -3, -3]\n",
    "\n",
    "# Element-wise multiplication\n",
    "result_multiply = array1 * array2  # [4, 10, 18]\n",
    "\n",
    "# Element-wise division\n",
    "result_divide = array1 / array2  # [0.25, 0.4, 0.5]\n",
    "\n",
    "print(\"Addition:\", result_add)\n",
    "print(\"Subtraction:\", result_subtract)\n",
    "print(\"Multiplication:\", result_multiply)\n",
    "print(\"Division:\", result_divide)\n"
   ]
  },
  {
   "cell_type": "code",
   "execution_count": 51,
   "metadata": {},
   "outputs": [
    {
     "name": "stdout",
     "output_type": "stream",
     "text": [
      "std: 0.816496580927726\n",
      "mean: 2.0\n",
      "Square Root: [1.         1.41421356 1.73205081]\n",
      "Exponential: [ 2.71828183  7.3890561  20.08553692]\n",
      "Sine: [0.84147098 0.90929743 0.14112001]\n",
      "Cosine: [ 0.54030231 -0.41614684 -0.9899925 ]\n",
      "Tangent: [ 1.55740772 -2.18503986 -0.14254654]\n"
     ]
    }
   ],
   "source": [
    "import numpy as np\n",
    "\n",
    "# Create a NumPy array\n",
    "array = np.array([1, 2, 3])\n",
    "\n",
    "# Square root of each element\n",
    "result_sqrt = np.sqrt(array)  # [1.0, 1.41421356, 1.73205081]\n",
    "\n",
    "# Exponential of each element\n",
    "result_exp = np.exp(array)  # [2.71828183, 7.3890561, 20.08553692]\n",
    "\n",
    "# Trigonometric functions (sine, cosine, tangent)\n",
    "result_sin = np.sin(array)  # [0.84147098, 0.90929743, 0.14112001]\n",
    "result_cos = np.cos(array)  # [0.54030231, -0.41614684, -0.9899925]\n",
    "result_tan = np.tan(array)  # [1.55740772, -2.18503986, -0.14254654]\n",
    "result_mean = np.mean(array)\n",
    "result_std = np.std(array)\n",
    "\n",
    "print(\"std:\",result_std )\n",
    "print(\"mean:\",result_mean )\n",
    "print(\"Square Root:\", result_sqrt)\n",
    "print(\"Exponential:\", result_exp)\n",
    "print(\"Sine:\", result_sin)\n",
    "print(\"Cosine:\", result_cos)\n",
    "print(\"Tangent:\", result_tan)\n"
   ]
  },
  {
   "cell_type": "code",
   "execution_count": 52,
   "metadata": {},
   "outputs": [
    {
     "name": "stdout",
     "output_type": "stream",
     "text": [
      "Sum of Elements: 15\n",
      "Minimum Element: 1\n",
      "Maximum Element: 5\n",
      "Mean: 3.0\n",
      "Median: 3.0\n"
     ]
    }
   ],
   "source": [
    "import numpy as np\n",
    "\n",
    "# Create a NumPy array\n",
    "array = np.array([1, 2, 3, 4, 5])\n",
    "\n",
    "# Sum of all elements\n",
    "sum_elements = np.sum(array)  # 15\n",
    "\n",
    "# Minimum and maximum elements\n",
    "min_element = np.min(array)  # 1\n",
    "max_element = np.max(array)  # 5\n",
    "\n",
    "# Mean and median\n",
    "mean_value = np.mean(array)  # 3.0\n",
    "median_value = np.median(array)  # 3.0\n",
    "\n",
    "print(\"Sum of Elements:\", sum_elements)\n",
    "print(\"Minimum Element:\", min_element)\n",
    "print(\"Maximum Element:\", max_element)\n",
    "print(\"Mean:\", mean_value)\n",
    "print(\"Median:\", median_value)\n"
   ]
  },
  {
   "cell_type": "code",
   "execution_count": 53,
   "metadata": {},
   "outputs": [
    {
     "name": "stdout",
     "output_type": "stream",
     "text": [
      "result_add:  [5 7 9] result_sub:  [-3 -3 -3]\n"
     ]
    }
   ],
   "source": [
    "array1 = np.array([1,2,3])\n",
    "array2 = np.array([4,5,6])\n",
    "\n",
    "result_add = array1 + array2\n",
    "result_sub = array1 - array2\n",
    "print(\"result_add: \",result_add,\"result_sub: \",result_sub)\n"
   ]
  },
  {
   "cell_type": "code",
   "execution_count": 55,
   "metadata": {},
   "outputs": [
    {
     "name": "stdout",
     "output_type": "stream",
     "text": [
      "sum_elem:  6\n"
     ]
    }
   ],
   "source": [
    "sum_elem = np.sum(array1)\n",
    "print(\"sum_elem: \",sum_elem)"
   ]
  },
  {
   "cell_type": "code",
   "execution_count": 57,
   "metadata": {},
   "outputs": [
    {
     "data": {
      "text/plain": [
       "array([1, 2, 3])"
      ]
     },
     "execution_count": 57,
     "metadata": {},
     "output_type": "execute_result"
    }
   ],
   "source": [
    "array1"
   ]
  },
  {
   "cell_type": "code",
   "execution_count": 56,
   "metadata": {},
   "outputs": [
    {
     "name": "stdout",
     "output_type": "stream",
     "text": [
      "max_elem : 3\n"
     ]
    }
   ],
   "source": [
    "max_elem = np.max(array1)\n",
    "print(\"max_elem :\",max_elem)"
   ]
  },
  {
   "cell_type": "code",
   "execution_count": 58,
   "metadata": {},
   "outputs": [
    {
     "name": "stdout",
     "output_type": "stream",
     "text": [
      "min_elem : 1\n"
     ]
    }
   ],
   "source": [
    "min_elem = np.min(array1)\n",
    "print(\"min_elem :\",min_elem)"
   ]
  },
  {
   "cell_type": "code",
   "execution_count": 60,
   "metadata": {},
   "outputs": [
    {
     "data": {
      "text/plain": [
       "2.0"
      ]
     },
     "execution_count": 60,
     "metadata": {},
     "output_type": "execute_result"
    }
   ],
   "source": [
    "mean_elem =np.mean(array1)\n",
    "mean_elem"
   ]
  },
  {
   "cell_type": "code",
   "execution_count": 61,
   "metadata": {},
   "outputs": [
    {
     "data": {
      "text/plain": [
       "2.0"
      ]
     },
     "execution_count": 61,
     "metadata": {},
     "output_type": "execute_result"
    }
   ],
   "source": [
    "med_elem = np.median(array1)\n",
    "med_elem"
   ]
  },
  {
   "cell_type": "code",
   "execution_count": 72,
   "metadata": {},
   "outputs": [
    {
     "data": {
      "text/plain": [
       "array([False,  True,  True])"
      ]
     },
     "execution_count": 72,
     "metadata": {},
     "output_type": "execute_result"
    }
   ],
   "source": [
    "array1 = np.array([1,2,3])\n",
    "array2 = np.array([1,5,6])\n",
    "array1 < array2"
   ]
  },
  {
   "cell_type": "code",
   "execution_count": 1,
   "metadata": {},
   "outputs": [
    {
     "name": "stdout",
     "output_type": "stream",
     "text": [
      "Equal Elements: [False  True False]\n",
      "Greater Than Elements: [False False False]\n",
      "Logical AND: [False  True False]\n",
      "Logical OR: [False  True  True]\n",
      "Logical NOT: [ True False  True]\n"
     ]
    }
   ],
   "source": [
    "import numpy as np\n",
    "\n",
    "# Create NumPy arrays\n",
    "array1 = np.array([1, 2, 3])\n",
    "array2 = np.array([4, 2, 6])\n",
    "\n",
    "# Element-wise comparison (equal)\n",
    "equal_elements = array1 == array2  # [False, True, False]\n",
    "\n",
    "# Element-wise comparison (greater than)\n",
    "greater_than_elements = array1 > array2  # [False, False, False]\n",
    "\n",
    "# Logical operations (AND, OR, NOT)\n",
    "logical_and = np.logical_and(array1 > 1, array2 < 5)  # [True, True, False]\n",
    "logical_or = np.logical_or(array1 > 2, array2 < 3)   # [False, True, True]\n",
    "logical_not = np.logical_not(array1 == 2)            # [True, False, True]\n",
    "\n",
    "print(\"Equal Elements:\", equal_elements)\n",
    "print(\"Greater Than Elements:\", greater_than_elements)\n",
    "print(\"Logical AND:\", logical_and)\n",
    "print(\"Logical OR:\", logical_or)\n",
    "print(\"Logical NOT:\", logical_not)\n"
   ]
  },
  {
   "cell_type": "code",
   "execution_count": 92,
   "metadata": {},
   "outputs": [],
   "source": [
    "arrayz =np.zeros(3)\n",
    "arrayo =np.ones(3)\n",
    "arraya = np.array([1,1,1])\n",
    "arrayb = np.array([2,2,2])\n"
   ]
  },
  {
   "cell_type": "code",
   "execution_count": 91,
   "metadata": {},
   "outputs": [
    {
     "data": {
      "text/plain": [
       "array([False, False, False])"
      ]
     },
     "execution_count": 91,
     "metadata": {},
     "output_type": "execute_result"
    }
   ],
   "source": [
    "logical_and = np.logical_and(arrayz, arrayb)\n",
    "logical_and"
   ]
  },
  {
   "cell_type": "code",
   "execution_count": 93,
   "metadata": {},
   "outputs": [
    {
     "data": {
      "text/plain": [
       "array([ True,  True,  True])"
      ]
     },
     "execution_count": 93,
     "metadata": {},
     "output_type": "execute_result"
    }
   ],
   "source": [
    "logical_and = np.logical_and(arrayo, arrayb)\n",
    "logical_and"
   ]
  },
  {
   "cell_type": "code",
   "execution_count": 96,
   "metadata": {},
   "outputs": [
    {
     "data": {
      "text/plain": [
       "array([False, False, False])"
      ]
     },
     "execution_count": 96,
     "metadata": {},
     "output_type": "execute_result"
    }
   ],
   "source": [
    "logical_or = np.logical_or(arrayz, arrayz)\n",
    "logical_or"
   ]
  },
  {
   "cell_type": "code",
   "execution_count": 99,
   "metadata": {},
   "outputs": [
    {
     "data": {
      "text/plain": [
       "array([False,  True,  True])"
      ]
     },
     "execution_count": 99,
     "metadata": {},
     "output_type": "execute_result"
    }
   ],
   "source": [
    "arrayz =np.zeros(3)\n",
    "arrayo =np.ones(3)\n",
    "arraya = np.array([0,1,1])\n",
    "arrayb = np.array([0,2,2])\n",
    "\n",
    "logical_or = np.logical_or(arraya, arrayb)\n",
    "logical_or"
   ]
  },
  {
   "cell_type": "code",
   "execution_count": 100,
   "metadata": {},
   "outputs": [
    {
     "name": "stdout",
     "output_type": "stream",
     "text": [
      "Sorted Array: [1 1 2 2 3 3 4 5]\n",
      "Unique Values: [1 2 3 4 5]\n"
     ]
    }
   ],
   "source": [
    "import numpy as np\n",
    "\n",
    "# Create a NumPy array\n",
    "array = np.array([3, 1, 2, 3, 1, 4, 2, 5])\n",
    "\n",
    "# Sort the array\n",
    "sorted_array = np.sort(array)  # [1, 1, 2, 2, 3, 3, 4, 5]\n",
    "\n",
    "# Find unique values\n",
    "unique_values = np.unique(array)  # [1, 2, 3, 4, 5]\n",
    "\n",
    "print(\"Sorted Array:\", sorted_array)\n",
    "print(\"Unique Values:\", unique_values)\n"
   ]
  },
  {
   "cell_type": "code",
   "execution_count": 104,
   "metadata": {},
   "outputs": [],
   "source": [
    "arrayx = np.array([3, 1, 2, 3, 1, 4, 2, 5])\n",
    "\n",
    "array_sorted = np.sort(arrayx)\n",
    "array_uniqe = np.unique(arrayx)\n"
   ]
  },
  {
   "cell_type": "code",
   "execution_count": 107,
   "metadata": {},
   "outputs": [
    {
     "data": {
      "text/plain": [
       "array([1, 1, 2, 2, 3, 3, 4, 5])"
      ]
     },
     "execution_count": 107,
     "metadata": {},
     "output_type": "execute_result"
    }
   ],
   "source": [
    "array_sorted"
   ]
  },
  {
   "cell_type": "code",
   "execution_count": 106,
   "metadata": {},
   "outputs": [
    {
     "data": {
      "text/plain": [
       "array([1, 2, 3, 4, 5])"
      ]
     },
     "execution_count": 106,
     "metadata": {},
     "output_type": "execute_result"
    }
   ],
   "source": [
    "array_uniqe"
   ]
  },
  {
   "cell_type": "code",
   "execution_count": 109,
   "metadata": {},
   "outputs": [
    {
     "name": "stdout",
     "output_type": "stream",
     "text": [
      "Custom Function Result: [ 1.  2. nan  3.  4.]\n"
     ]
    }
   ],
   "source": [
    "import numpy as np\n",
    "\n",
    "# Define a custom function\n",
    "def square_root(x):\n",
    "    return np.sqrt(x) if x >= 0 else np.nan  # Return square root if non-negative, else NaN\n",
    "\n",
    "# Create a NumPy array\n",
    "array = np.array([1, 4, -1, 9, 16])\n",
    "\n",
    "# Apply the custom function element-wise\n",
    "result_square_root = np.vectorize(square_root)(array)\n",
    "\n",
    "print(\"Custom Function Result:\", result_square_root)\n"
   ]
  },
  {
   "cell_type": "code",
   "execution_count": 110,
   "metadata": {},
   "outputs": [
    {
     "name": "stdout",
     "output_type": "stream",
     "text": [
      "Original Array: [1 2 3 4 5]\n",
      "Even Check Result: [False  True False  True False]\n"
     ]
    }
   ],
   "source": [
    "import numpy as np\n",
    "\n",
    "# Custom function to check if a number is even\n",
    "def is_even(x):\n",
    "    return x % 2 == 0\n",
    "\n",
    "# Create a vectorized version of the function\n",
    "is_even_vectorized = np.vectorize(is_even)\n",
    "\n",
    "# Create a NumPy array\n",
    "array = np.array([1, 2, 3, 4, 5])\n",
    "\n",
    "# Apply the vectorized function to the array\n",
    "result = is_even_vectorized(array)\n",
    "\n",
    "print(\"Original Array:\", array)\n",
    "print(\"Even Check Result:\", result)\n"
   ]
  },
  {
   "cell_type": "code",
   "execution_count": 111,
   "metadata": {},
   "outputs": [
    {
     "name": "stdout",
     "output_type": "stream",
     "text": [
      "Matrix Addition:\n",
      "[[ 6  8]\n",
      " [10 12]]\n",
      "\n",
      "Matrix Multiplication:\n",
      "[[19 22]\n",
      " [43 50]]\n"
     ]
    }
   ],
   "source": [
    "import numpy as np\n",
    "\n",
    "# Create matrices\n",
    "matrix1 = np.array([[1, 2], [3, 4]])\n",
    "matrix2 = np.array([[5, 6], [7, 8]])\n",
    "\n",
    "# Matrix addition\n",
    "result_addition = matrix1 + matrix2\n",
    "\n",
    "# Matrix multiplication\n",
    "result_multiplication = np.matmul(matrix1, matrix2)\n",
    "\n",
    "print(\"Matrix Addition:\")\n",
    "print(result_addition)\n",
    "\n",
    "print(\"\\nMatrix Multiplication:\")\n",
    "print(result_multiplication)\n"
   ]
  },
  {
   "cell_type": "code",
   "execution_count": 3,
   "metadata": {},
   "outputs": [
    {
     "data": {
      "text/plain": [
       "(2, 2)"
      ]
     },
     "execution_count": 3,
     "metadata": {},
     "output_type": "execute_result"
    }
   ],
   "source": [
    "import numpy as np\n",
    "\n",
    "# Create matrices\n",
    "matrix1 = np.array([[1, 2], [3, 4]])\n",
    "matrix2 = np.array([[5, 6], [7, 8]])\n",
    "\n",
    "matrix2.shape"
   ]
  },
  {
   "cell_type": "code",
   "execution_count": 4,
   "metadata": {},
   "outputs": [
    {
     "data": {
      "text/plain": [
       "array([[ 6,  8],\n",
       "       [10, 12]])"
      ]
     },
     "execution_count": 4,
     "metadata": {},
     "output_type": "execute_result"
    }
   ],
   "source": [
    "mat_add = matrix1 + matrix2\n",
    "mat_add"
   ]
  },
  {
   "cell_type": "code",
   "execution_count": 5,
   "metadata": {},
   "outputs": [
    {
     "data": {
      "text/plain": [
       "array([[ 5, 12],\n",
       "       [21, 32]])"
      ]
     },
     "execution_count": 5,
     "metadata": {},
     "output_type": "execute_result"
    }
   ],
   "source": [
    "mat_mul = matrix1 * matrix2\n",
    "mat_mul\n"
   ]
  },
  {
   "cell_type": "code",
   "execution_count": 6,
   "metadata": {},
   "outputs": [
    {
     "data": {
      "text/plain": [
       "array([[19, 22],\n",
       "       [43, 50]])"
      ]
     },
     "execution_count": 6,
     "metadata": {},
     "output_type": "execute_result"
    }
   ],
   "source": [
    "mat_mul = np.matmul(matrix1, matrix2)\n",
    "mat_mul"
   ]
  },
  {
   "cell_type": "code",
   "execution_count": 9,
   "metadata": {},
   "outputs": [],
   "source": [
    "import numpy as np\n",
    "import pandas as pd\n",
    "import matplotlib.pyplot as plt"
   ]
  },
  {
   "cell_type": "code",
   "execution_count": 10,
   "metadata": {},
   "outputs": [],
   "source": [
    "# Generate sample data\n",
    "data = {'A': np.random.rand(100),\n",
    "        'B': np.random.randint(1, 100, size=100),\n",
    "        'C': np.random.choice(['X', 'Y', 'Z'], size=100)}\n",
    "df = pd.DataFrame(data)"
   ]
  },
  {
   "cell_type": "code",
   "execution_count": 15,
   "metadata": {},
   "outputs": [
    {
     "data": {
      "text/html": [
       "<div>\n",
       "<style scoped>\n",
       "    .dataframe tbody tr th:only-of-type {\n",
       "        vertical-align: middle;\n",
       "    }\n",
       "\n",
       "    .dataframe tbody tr th {\n",
       "        vertical-align: top;\n",
       "    }\n",
       "\n",
       "    .dataframe thead th {\n",
       "        text-align: right;\n",
       "    }\n",
       "</style>\n",
       "<table border=\"1\" class=\"dataframe\">\n",
       "  <thead>\n",
       "    <tr style=\"text-align: right;\">\n",
       "      <th></th>\n",
       "      <th>A</th>\n",
       "      <th>B</th>\n",
       "      <th>C</th>\n",
       "    </tr>\n",
       "  </thead>\n",
       "  <tbody>\n",
       "    <tr>\n",
       "      <th>0</th>\n",
       "      <td>0.016550</td>\n",
       "      <td>20</td>\n",
       "      <td>X</td>\n",
       "    </tr>\n",
       "    <tr>\n",
       "      <th>1</th>\n",
       "      <td>0.863917</td>\n",
       "      <td>62</td>\n",
       "      <td>Y</td>\n",
       "    </tr>\n",
       "    <tr>\n",
       "      <th>2</th>\n",
       "      <td>0.065130</td>\n",
       "      <td>64</td>\n",
       "      <td>Z</td>\n",
       "    </tr>\n",
       "    <tr>\n",
       "      <th>3</th>\n",
       "      <td>0.958978</td>\n",
       "      <td>2</td>\n",
       "      <td>Y</td>\n",
       "    </tr>\n",
       "    <tr>\n",
       "      <th>4</th>\n",
       "      <td>0.612102</td>\n",
       "      <td>6</td>\n",
       "      <td>X</td>\n",
       "    </tr>\n",
       "  </tbody>\n",
       "</table>\n",
       "</div>"
      ],
      "text/plain": [
       "          A   B  C\n",
       "0  0.016550  20  X\n",
       "1  0.863917  62  Y\n",
       "2  0.065130  64  Z\n",
       "3  0.958978   2  Y\n",
       "4  0.612102   6  X"
      ]
     },
     "execution_count": 15,
     "metadata": {},
     "output_type": "execute_result"
    }
   ],
   "source": [
    "df.head()"
   ]
  },
  {
   "cell_type": "code",
   "execution_count": 13,
   "metadata": {},
   "outputs": [],
   "source": [
    "\n",
    "# Calculate statistics using NumPy\n",
    "mean_a = np.mean(df['A'])\n",
    "max_b = np.max(df['B'])\n"
   ]
  },
  {
   "cell_type": "code",
   "execution_count": 8,
   "metadata": {},
   "outputs": [
    {
     "data": {
      "image/png": "[encoded data removed]",
      "text/plain": [
       "<Figure size 1000x600 with 2 Axes>"
      ]
     },
     "metadata": {},
     "output_type": "display_data"
    },
    {
     "name": "stdout",
     "output_type": "stream",
     "text": [
      "Mean of A: 0.43711849604451414\n",
      "Max of B: 99\n"
     ]
    }
   ],
   "source": [
    "\n",
    "\n",
    "\n",
    "# Plotting data\n",
    "plt.figure(figsize=(10, 6))\n",
    "scatter = plt.scatter(df['A'], df['B'], c=pd.factorize(df['C'])[0], cmap='viridis')\n",
    "plt.xlabel('A')\n",
    "plt.ylabel('B')\n",
    "plt.title('Scatter Plot with Color Coding')\n",
    "plt.colorbar(scatter, ticks=np.arange(3), label='Category')\n",
    "plt.show()\n",
    "\n",
    "print(\"Mean of A:\", mean_a)\n",
    "print(\"Max of B:\", max_b)\n"
   ]
  },
  {
   "cell_type": "code",
   "execution_count": 26,
   "metadata": {},
   "outputs": [
    {
     "data": {
      "text/html": [
       "<div>\n",
       "<style scoped>\n",
       "    .dataframe tbody tr th:only-of-type {\n",
       "        vertical-align: middle;\n",
       "    }\n",
       "\n",
       "    .dataframe tbody tr th {\n",
       "        vertical-align: top;\n",
       "    }\n",
       "\n",
       "    .dataframe thead th {\n",
       "        text-align: right;\n",
       "    }\n",
       "</style>\n",
       "<table border=\"1\" class=\"dataframe\">\n",
       "  <thead>\n",
       "    <tr style=\"text-align: right;\">\n",
       "      <th></th>\n",
       "      <th>Name</th>\n",
       "      <th>Age</th>\n",
       "      <th>phone</th>\n",
       "    </tr>\n",
       "  </thead>\n",
       "  <tbody>\n",
       "    <tr>\n",
       "      <th>0</th>\n",
       "      <td>Alice</td>\n",
       "      <td>20</td>\n",
       "      <td>111</td>\n",
       "    </tr>\n",
       "    <tr>\n",
       "      <th>1</th>\n",
       "      <td>Bob</td>\n",
       "      <td>21</td>\n",
       "      <td>222</td>\n",
       "    </tr>\n",
       "    <tr>\n",
       "      <th>2</th>\n",
       "      <td>Charlie</td>\n",
       "      <td>23</td>\n",
       "      <td>333</td>\n",
       "    </tr>\n",
       "  </tbody>\n",
       "</table>\n",
       "</div>"
      ],
      "text/plain": [
       "      Name  Age  phone\n",
       "0    Alice   20    111\n",
       "1      Bob   21    222\n",
       "2  Charlie   23    333"
      ]
     },
     "execution_count": 26,
     "metadata": {},
     "output_type": "execute_result"
    }
   ],
   "source": [
    "data = {\n",
    "    'Name': ['Alice', 'Bob', 'Charlie'],\n",
    "    'Age': [20,21,23],\n",
    "    \"phone\":[111,222,333]\n",
    "}\n",
    "\n",
    "df =pd.DataFrame(data)\n",
    "df"
   ]
  },
  {
   "cell_type": "code",
   "execution_count": 40,
   "metadata": {},
   "outputs": [],
   "source": [
    "ar1 = np.array([1,2,3,4])\n",
    "ar2 = np.array([[4,5],[6,7]])\n",
    "\n"
   ]
  },
  {
   "cell_type": "code",
   "execution_count": 45,
   "metadata": {},
   "outputs": [
    {
     "data": {
      "text/plain": [
       "array([1, 2, 3, 4])"
      ]
     },
     "execution_count": 45,
     "metadata": {},
     "output_type": "execute_result"
    }
   ],
   "source": [
    "ar1.reshape((4))"
   ]
  },
  {
   "cell_type": "code",
   "execution_count": 50,
   "metadata": {},
   "outputs": [
    {
     "data": {
      "text/plain": [
       "array([[4, 5],\n",
       "       [6, 7]])"
      ]
     },
     "execution_count": 50,
     "metadata": {},
     "output_type": "execute_result"
    }
   ],
   "source": [
    "ar2.reshape(2,-1)"
   ]
  },
  {
   "cell_type": "code",
   "execution_count": 51,
   "metadata": {},
   "outputs": [
    {
     "name": "stdout",
     "output_type": "stream",
     "text": [
      "Original 1D array:\n",
      "[ 0  1  2  3  4  5  6  7  8  9 10 11]\n",
      "\n",
      "Reshaped 2D array:\n",
      "[[ 0  1  2  3]\n",
      " [ 4  5  6  7]\n",
      " [ 8  9 10 11]]\n"
     ]
    }
   ],
   "source": [
    "import numpy as np\n",
    "\n",
    "# Create a 1D array with 12 elements\n",
    "arr1d = np.arange(12)\n",
    "\n",
    "# Reshape the 1D array into a 2D array with 3 rows and 4 columns\n",
    "arr2d = arr1d.reshape((3, 4))\n",
    "\n",
    "print(\"Original 1D array:\")\n",
    "print(arr1d)\n",
    "print(\"\\nReshaped 2D array:\")\n",
    "print(arr2d)\n"
   ]
  },
  {
   "cell_type": "code",
   "execution_count": 54,
   "metadata": {},
   "outputs": [
    {
     "data": {
      "text/plain": [
       "array([1, 2, 3, 4])"
      ]
     },
     "execution_count": 54,
     "metadata": {},
     "output_type": "execute_result"
    }
   ],
   "source": [
    "ar1 = [1,2]\n",
    "ar2 = [3,4]\n",
    "ar3 = np.concatenate((ar1,ar2))\n",
    "ar3"
   ]
  },
  {
   "cell_type": "code",
   "execution_count": 57,
   "metadata": {},
   "outputs": [
    {
     "data": {
      "text/plain": [
       "10"
      ]
     },
     "execution_count": 57,
     "metadata": {},
     "output_type": "execute_result"
    }
   ],
   "source": [
    "ar_sum = np.sum((ar1,ar2))\n",
    "ar_sum"
   ]
  },
  {
   "cell_type": "code",
   "execution_count": 70,
   "metadata": {},
   "outputs": [
    {
     "name": "stdout",
     "output_type": "stream",
     "text": [
      "[[109 126]\n",
      " [329 382]]\n"
     ]
    }
   ],
   "source": [
    "ar1 = [[1,2],[3,4]]\n",
    "ar2 = [[5,6],[7,8]]\n",
    "ar1 = np.multiply(ar1, ar2)\n",
    "ar2 = np.matmul(ar1, ar2)\n",
    "# print(ar1)\n",
    "print(ar2)"
   ]
  },
  {
   "cell_type": "code",
   "execution_count": 111,
   "metadata": {},
   "outputs": [
    {
     "name": "stdout",
     "output_type": "stream",
     "text": [
      "[[2 3]\n",
      " [5 6]]\n"
     ]
    }
   ],
   "source": [
    "# Create a 2D array\n",
    "arr2d = np.array([[1, 2, 3],\n",
    "                  [4, 5, 6],\n",
    "                  [7, 8, 9]])\n",
    "\n",
    "# Slice rows 0 to 1 (inclusive) and columns 1 to 2 (exclusive)\n",
    "sliced_arr2d = arr2d[0:2, 1:3]\n",
    "\n",
    "print(sliced_arr2d)  # Output: [[2 3]\n",
    "                     #          [5 6]]\n"
   ]
  },
  {
   "cell_type": "code",
   "execution_count": 19,
   "metadata": {},
   "outputs": [],
   "source": [
    "import numpy as np\n",
    "x = np.array([[0, 1, 2],\n",
    "              [4, 5, 6],\n",
    "              [7, 8, 9]])"
   ]
  },
  {
   "cell_type": "code",
   "execution_count": 39,
   "metadata": {},
   "outputs": [
    {
     "data": {
      "text/plain": [
       "array([[0, 1, 2],\n",
       "       [4, 5, 6],\n",
       "       [7, 8, 9]])"
      ]
     },
     "execution_count": 39,
     "metadata": {},
     "output_type": "execute_result"
    }
   ],
   "source": [
    "\n",
    "x[:]"
   ]
  },
  {
   "cell_type": "code",
   "execution_count": 40,
   "metadata": {},
   "outputs": [],
   "source": [
    "x1 = [1,2,3]\n",
    "x2 = [4,5,6]\n",
    "\n"
   ]
  },
  {
   "cell_type": "code",
   "execution_count": 47,
   "metadata": {},
   "outputs": [
    {
     "data": {
      "text/plain": [
       "array([[1, 2, 3],\n",
       "       [4, 5, 6]])"
      ]
     },
     "execution_count": 47,
     "metadata": {},
     "output_type": "execute_result"
    }
   ],
   "source": [
    "c = np.vstack((x1,x2))\n",
    "c"
   ]
  },
  {
   "cell_type": "code",
   "execution_count": null,
   "metadata": {},
   "outputs": [],
   "source": []
  }
 ],
 "metadata": {
  "kernelspec": {
   "display_name": "learnig_venv",
   "language": "python",
   "name": "python3"
  },
  "language_info": {
   "codemirror_mode": {
    "name": "ipython",
    "version": 3
   },
   "file_extension": ".py",
   "mimetype": "text/x-python",
   "name": "python",
   "nbconvert_exporter": "python",
   "pygments_lexer": "ipython3",
   "version": "3.11.7"
  }
 },
 "nbformat": 4,
 "nbformat_minor": 2
}
